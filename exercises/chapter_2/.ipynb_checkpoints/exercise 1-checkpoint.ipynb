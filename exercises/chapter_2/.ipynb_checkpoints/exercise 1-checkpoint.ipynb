{
 "cells": [
  {
   "cell_type": "code",
   "execution_count": 1,
   "id": "49f6f0fd",
   "metadata": {},
   "outputs": [],
   "source": [
    "from numpy.random import binomial, normal, seed\n",
    "from numpy import mean, unique"
   ]
  },
  {
   "cell_type": "code",
   "execution_count": 8,
   "id": "4c9d608b",
   "metadata": {},
   "outputs": [
    {
     "name": "stdout",
     "output_type": "stream",
     "text": [
      "-0.1810218929047634\n"
     ]
    }
   ],
   "source": [
    "seed(1234)\n",
    "n = 10000\n",
    "treatment = binomial(1, 0.5, size=n)\n",
    "outcome = binomial(1, 0.3, size=n)*treatment + binomial(1, 0.5, size=n)*(1-treatment)\n",
    "\n",
    "condition_prob_diff = mean(outcome[treatment==1]) - mean(outcome[treatment==0])\n",
    "print(condition_prob_diff)"
   ]
  },
  {
   "cell_type": "code",
   "execution_count": 3,
   "id": "89e8b63f",
   "metadata": {},
   "outputs": [
    {
     "name": "stdout",
     "output_type": "stream",
     "text": [
      "0.02107032530615749\n",
      "-0.21901378090633217\n"
     ]
    }
   ],
   "source": [
    "seed(1234)\n",
    "n = 10000\n",
    "confounder = binomial(1, 0.8, size=n)\n",
    "treatment = binomial(1, 0.6, size=n)*confounder + binomial(1, 0.2, size=n)*(1-confounder)\n",
    "outcome = binomial(1, 0.3, size=n)*treatment + binomial(1, 0.5, size=n)*(1-treatment) + confounder + normal(size=n)\n",
    "\n",
    "condition_prob_diff = mean(outcome[treatment==1]) - mean(outcome[treatment==0])\n",
    "print(condition_prob_diff)\n",
    "\n",
    "def adjustment(t, o, z, t0):\n",
    "    ind_t0 = t == t0\n",
    "    z_values = unique(z)\n",
    "\n",
    "    adjusted_prob = 0\n",
    "    for z_ in z_values:\n",
    "        ind_z_ = z == z_\n",
    "        ind = ind_t0 & ind_z_\n",
    "        adjusted_prob = adjusted_prob + mean(o[ind])*mean(ind_z_)\n",
    "    return(adjusted_prob)\n",
    "\n",
    "\n",
    "adj_result = adjustment(treatment, outcome, confounder, 1) - adjustment(treatment, outcome, confounder, 0)\n",
    "print(adj_result)\n"
   ]
  },
  {
   "cell_type": "code",
   "execution_count": 2,
   "id": "45946b37",
   "metadata": {},
   "outputs": [],
   "source": [
    "def adjustment(t, o, z, t0):\n",
    "    ind_t0 = t == t0\n",
    "    z_values = unique(z)\n",
    "\n",
    "    adjusted_prob = 0\n",
    "    for z_ in z_values:\n",
    "        ind_z_ = z == z_\n",
    "        ind = ind_t0 & ind_z_\n",
    "        adjusted_prob = adjusted_prob + mean(o[ind])*mean(ind_z_)\n",
    "    return(adjusted_prob)\n",
    "\n"
   ]
  },
  {
   "cell_type": "code",
   "execution_count": 3,
   "id": "9265d665",
   "metadata": {},
   "outputs": [
    {
     "name": "stdout",
     "output_type": "stream",
     "text": [
      "0.29470156607738807\n",
      "-0.10511006573608273\n"
     ]
    }
   ],
   "source": [
    "seed(1234)\n",
    "n = 10000\n",
    "\n",
    "treatment = binomial(1, 0.4, size=n)\n",
    "mediator = binomial(1, 0.6, size=n)*treatment + binomial(1, 0.2, size=n)*(1-treatment)\n",
    "outcome = binomial(1, 0.4, size=n)*treatment + binomial(1, 0.5, size=n)*(1-treatment) + mediator + normal(size=n)\n",
    "\n",
    "condition_prob_diff = mean(outcome[treatment==1]) - mean(outcome[treatment==0])\n",
    "print(condition_prob_diff)\n",
    "\n",
    "\n",
    "adj_result = adjustment(treatment, outcome, mediator, 1) - adjustment(treatment, outcome, mediator, 0)\n",
    "print(adj_result)\n"
   ]
  },
  {
   "cell_type": "code",
   "execution_count": 15,
   "id": "bde86f1e",
   "metadata": {},
   "outputs": [
    {
     "name": "stdout",
     "output_type": "stream",
     "text": [
      "-0.07386507504710504\n",
      "-0.08193645550537232\n"
     ]
    }
   ],
   "source": [
    "seed(1234)\n",
    "n = 10000\n",
    "\n",
    "treatment = binomial(1, 0.4, size=n)\n",
    "predictor = binomial(1, 0.4, size=n)\n",
    "outcome = binomial(1, 0.4, size=n)*treatment + binomial(1, 0.5, size=n)*(1-treatment) + predictor + normal(size=n)\n",
    "\n",
    "condition_prob_diff = mean(outcome[treatment==1]) - mean(outcome[treatment==0])\n",
    "print(condition_prob_diff)\n",
    "\n",
    "\n",
    "adj_result = adjustment(treatment, outcome, predictor, 1) - adjustment(treatment, outcome, predictor, 0)\n",
    "print(adj_result)\n"
   ]
  },
  {
   "cell_type": "code",
   "execution_count": null,
   "id": "6f92f185",
   "metadata": {},
   "outputs": [],
   "source": []
  }
 ],
 "metadata": {
  "kernelspec": {
   "display_name": "Python 3",
   "language": "python",
   "name": "python3"
  },
  "language_info": {
   "codemirror_mode": {
    "name": "ipython",
    "version": 3
   },
   "file_extension": ".py",
   "mimetype": "text/x-python",
   "name": "python",
   "nbconvert_exporter": "python",
   "pygments_lexer": "ipython3",
   "version": "3.8.5"
  }
 },
 "nbformat": 4,
 "nbformat_minor": 5
}
